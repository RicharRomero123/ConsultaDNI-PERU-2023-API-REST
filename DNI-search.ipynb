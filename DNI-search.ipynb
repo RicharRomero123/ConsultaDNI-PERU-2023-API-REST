{
  "nbformat": 4,
  "nbformat_minor": 0,
  "metadata": {
    "colab": {
      "private_outputs": true,
      "provenance": []
    },
    "kernelspec": {
      "name": "python3",
      "display_name": "Python 3"
    },
    "language_info": {
      "name": "python"
    }
  },
  "cells": [
    {
      "cell_type": "code",
      "source": [
        "import requests\n",
        "\n",
        "def consultar_dni(api_token, numero_dni):\n",
        "    url = f\"https://api.apis.net.pe/v2/reniec/dni?numero={numero_dni}\"\n",
        "    headers = {\n",
        "        \"Referer\": \"https://apis.net.pe/consulta-dni-api\",\n",
        "        \"Authorization\": f\"Bearer {api_token}\"\n",
        "    }\n",
        "\n",
        "    response = requests.get(url, headers=headers)\n",
        "\n",
        "    if response.status_code == 200:\n",
        "        data = response.json()\n",
        "        return data\n",
        "    else:\n",
        "        print(\"Error al realizar la consulta. Código de estado:\", response.status_code)\n",
        "        return None\n",
        "\n",
        "# Coloca tu token y el número de DNI a consultar\n",
        "TOKEN = \"apis-token-5140.0DFWA-3vI4IC854uxjcAEjh2q-A12rQ-\"\n",
        "numero_dni_consultar = \"73420557\"\n",
        "\n",
        "resultado = consultar_dni(TOKEN, numero_dni_consultar)\n",
        "if resultado:\n",
        "    print(\"Resultado:\")\n",
        "    print(resultado)\n"
      ],
      "metadata": {
        "id": "8toJ4JvlB-4S"
      },
      "execution_count": null,
      "outputs": []
    }
  ]
}